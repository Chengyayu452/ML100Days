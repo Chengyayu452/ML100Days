{
 "cells": [
  {
   "cell_type": "markdown",
   "metadata": {},
   "source": [
    "## [作業目標]\n",
    "了解機器學習適合應用的領域與範疇。"
   ]
  },
  {
   "cell_type": "markdown",
   "metadata": {},
   "source": [
    "## [作業重點]\n",
    "透過瞭解機器學習的運作方式，找出非常適用機器學習應用的領域及其原因"
   ]
  },
  {
   "cell_type": "markdown",
   "metadata": {},
   "source": [
    "## 作業\n",
    "請找出一個你認為機器學習可以發光發熱的領域並闡述原因? "
   ]
  },
  {
   "cell_type": "markdown",
   "metadata": {},
   "source": [
    "   Ans:\n",
    "   個人醫療建議與疾病預防.\n",
    "   \n",
    "   以慢性疾病以及受家族史影響的疾病為例(即高齡化社會的主要議題之一),\n",
    "   疾病受到年齡,生活作息以及家族遺傳疾病影響較大.\n",
    "   其中以飲食習慣以及生活作息來說,受地區以及職業影響甚巨,\n",
    "   再這些前提下,紀錄職業,家族疾病史,生活地區,以及每次就診紀錄,\n",
    "   可以完成一數據庫來對個別用戶進行潛在疾病預防的可能,\n",
    "   另外值得一提的是,由於每個個體在疾病治療時的藥劑用量目前是由醫生依據其專業判斷對其進行建議,\n",
    "   其考量因素包含例如年齡,用藥史,以及其他症狀考量,\n",
    "   以這些考量為機器學習的input,可以產出output由配合醫師達成監督式學習,\n",
    "   為醫療防護多一層把關."
   ]
  }
 ],
 "metadata": {
  "kernelspec": {
   "display_name": "Python 3",
   "language": "python",
   "name": "python3"
  },
  "language_info": {
   "codemirror_mode": {
    "name": "ipython",
    "version": 3
   },
   "file_extension": ".py",
   "mimetype": "text/x-python",
   "name": "python",
   "nbconvert_exporter": "python",
   "pygments_lexer": "ipython3",
   "version": "3.7.3"
  }
 },
 "nbformat": 4,
 "nbformat_minor": 2
}
